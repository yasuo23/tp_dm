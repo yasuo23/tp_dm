{
 "cells": [
  {
   "cell_type": "code",
   "execution_count": 38,
   "metadata": {},
   "outputs": [],
   "source": [
    "import pandas as pd\n",
    "import numpy as np\n",
    "from collections import Counter\n",
    "import math"
   ]
  },
  {
   "cell_type": "markdown",
   "metadata": {},
   "source": [
    "### 0- Chargement du dataset"
   ]
  },
  {
   "cell_type": "code",
   "execution_count": 39,
   "metadata": {},
   "outputs": [],
   "source": [
    "# def charger_dataset(file_name):\n",
    "#     \"\"\"Charge un fichier CSV et retourne le df.\"\"\"\n",
    "#     df = pd.read_csv('Dataset-Exos.txt', delimiter=',', header=None, names=['sepal_length','sepal_width','petal_length', 'petal_width', 'classe'])\n",
    "#     #turn the 4 first columns into float\n",
    "#     df[['sepal_length','sepal_width','petal_length', 'petal_width']] = df[['sepal_length','sepal_width','petal_length', 'petal_width']].astype(float)\n",
    "#     df = df.dropna( )\n",
    "\n",
    "#     return df\n",
    "\n",
    "# df = charger_dataset('Dataset-Exos.txt')\n",
    "def load(path):\n",
    " data = pd.read_csv(path, delimiter=',')\n",
    " \n",
    " return data\n",
    "data=load(\"DatasetExos.csv\")"
   ]
  },
  {
   "cell_type": "code",
   "execution_count": 40,
   "metadata": {},
   "outputs": [
    {
     "name": "stdout",
     "output_type": "stream",
     "text": [
      "ep (ms)     category\n",
      "Acc_x        float64\n",
      "Acc_y        float64\n",
      "Acc_z        float64\n",
      "Gyro_x       float64\n",
      "Gyro_y       float64\n",
      "Gyro_z       float64\n",
      "ID          category\n",
      "Exercise    category\n",
      "Category    category\n",
      "Set          float64\n",
      "dtype: object\n"
     ]
    }
   ],
   "source": [
    "# data['ep (ms)'] = pd.to_datetime(data['ep (ms)'])\n",
    "data['ep (ms)'] =  data['ep (ms)'] .astype('category')  \n",
    "\n",
    "data['Acc_x'] = pd.to_numeric(data['Acc_x'], errors='coerce') \n",
    "data['Acc_y'] = pd.to_numeric(data['Acc_y'], errors='coerce')  \n",
    "data['Acc_z'] = pd.to_numeric(data['Acc_z'], errors='coerce')  \n",
    "data['Gyro_x'] = pd.to_numeric(data['Gyro_x'], errors='coerce')  \n",
    "data['Gyro_y'] = pd.to_numeric(data['Gyro_y'], errors='coerce')  \n",
    "data['Gyro_z'] = pd.to_numeric(data['Gyro_z'], errors='coerce')  \n",
    "data['ID'] = data['ID'].astype('category')  \n",
    "data['Exercise'] = data['Exercise'].astype('category')  \n",
    "data['Category'] = data['Category'].astype('category')  \n",
    "data['Set'] = data['Set'].where(data['Set'] >= 0,0) \n",
    "data['Set'] = data['Set'].fillna(0)  \n",
    "data['Set']= pd.to_numeric(data['Set'], errors='coerce') \n",
    "\n",
    "print(data.dtypes)\n",
    "data = data.apply(\n",
    "    lambda x: x.fillna(x.mode()[0]) if x.dtype == 'category' and x.mode().size > 0 else x.fillna(x.mean()) if x.dtype != 'category' else x,\n",
    "    axis=0\n",
    ")"
   ]
  },
  {
   "cell_type": "code",
   "execution_count": 41,
   "metadata": {},
   "outputs": [],
   "source": [
    "df = data.drop(columns=['Exercise','ID','ep (ms)','Category'])"
   ]
  },
  {
   "cell_type": "code",
   "execution_count": 42,
   "metadata": {},
   "outputs": [],
   "source": [
    "# Q1 = df['sepal_width'].quantile(0.25)\n",
    "# Q3 = df['sepal_width'].quantile(0.75)\n",
    "\n",
    "# IQR = Q3 - Q1 \n",
    "\n",
    "# outliers_threshold = 1.5 * IQR \n",
    "# max_outliers = Q3 + outliers_threshold\n",
    "# min_outliers = Q1 - outliers_threshold"
   ]
  },
  {
   "cell_type": "code",
   "execution_count": 43,
   "metadata": {},
   "outputs": [],
   "source": [
    "# column2 = df['sepal_width'][(df['sepal_width']< max_outliers) & (df['sepal_width'] > min_outliers)]\n",
    "# df['sepal_width'] = column2\n",
    "# df"
   ]
  },
  {
   "cell_type": "code",
   "execution_count": 44,
   "metadata": {},
   "outputs": [],
   "source": [
    "# classes = df['classe']\n",
    "# # remove column class\n",
    "# df_copy = df.drop(columns=['classe'])\n",
    "# df_copy = df_copy.apply(pd.to_numeric, errors='coerce')\n",
    "\n",
    "# df_copy"
   ]
  },
  {
   "cell_type": "markdown",
   "metadata": {},
   "source": [
    "#### Supression des valeurs null de notre dataset"
   ]
  },
  {
   "cell_type": "code",
   "execution_count": 45,
   "metadata": {},
   "outputs": [],
   "source": [
    "# print(df_copy.isnull().sum())"
   ]
  },
  {
   "cell_type": "code",
   "execution_count": 46,
   "metadata": {},
   "outputs": [],
   "source": [
    "df_copy = df\n",
    "\n",
    "# print(df_copy.isnull().sum())"
   ]
  },
  {
   "cell_type": "markdown",
   "metadata": {},
   "source": [
    "### 1- les fonctions permettant de calculer le distance entre deux instances du dataset."
   ]
  },
  {
   "cell_type": "code",
   "execution_count": 47,
   "metadata": {},
   "outputs": [],
   "source": [
    "def manhattan_distance(instance_a, instance_b):\n",
    "        return sum(abs(a - b) for a, b in zip(instance_a, instance_b))\n",
    "\n",
    "def euclidean_distance(instance_a, instance_b):\n",
    "        return np.sqrt(sum((a - b)**2 for a, b in zip(instance_a, instance_b)))\n",
    "\n",
    "def minkowski_distance(instance_a, instance_b, p):\n",
    "        return sum(abs(a - b)**p for a, b in zip(instance_a, instance_b))**(1/p)\n",
    "\n",
    "def cosine_distance(instance_a, instance_b):\n",
    "        return 1 - (sum(a * b for a, b in zip(instance_a, instance_b)) / (np.sqrt(sum(a**2 for a in instance_a)) * np.sqrt(sum(b**2 for b in instance_b))))\n",
    "\n",
    "def hamming_distance(instance_a, instance_b):\n",
    "        return sum(a != b for a, b in zip(instance_a, instance_b))"
   ]
  },
  {
   "cell_type": "markdown",
   "metadata": {},
   "source": [
    "### 2- fonction permettant de calculer le centroïde d’un ensemble d’instances."
   ]
  },
  {
   "cell_type": "code",
   "execution_count": 48,
   "metadata": {},
   "outputs": [
    {
     "data": {
      "text/html": [
       "<div>\n",
       "<style scoped>\n",
       "    .dataframe tbody tr th:only-of-type {\n",
       "        vertical-align: middle;\n",
       "    }\n",
       "\n",
       "    .dataframe tbody tr th {\n",
       "        vertical-align: top;\n",
       "    }\n",
       "\n",
       "    .dataframe thead th {\n",
       "        text-align: right;\n",
       "    }\n",
       "</style>\n",
       "<table border=\"1\" class=\"dataframe\">\n",
       "  <thead>\n",
       "    <tr style=\"text-align: right;\">\n",
       "      <th></th>\n",
       "      <th>Acc_x</th>\n",
       "      <th>Acc_y</th>\n",
       "      <th>Acc_z</th>\n",
       "      <th>Gyro_x</th>\n",
       "      <th>Gyro_y</th>\n",
       "      <th>Gyro_z</th>\n",
       "      <th>Set</th>\n",
       "    </tr>\n",
       "  </thead>\n",
       "  <tbody>\n",
       "    <tr>\n",
       "      <th>0</th>\n",
       "      <td>0.581500</td>\n",
       "      <td>0.6880</td>\n",
       "      <td>-0.045</td>\n",
       "      <td>-15.9876</td>\n",
       "      <td>-49.4388</td>\n",
       "      <td>14.4512</td>\n",
       "      <td>23.0</td>\n",
       "    </tr>\n",
       "    <tr>\n",
       "      <th>1</th>\n",
       "      <td>0.010500</td>\n",
       "      <td>-1.5455</td>\n",
       "      <td>-0.040</td>\n",
       "      <td>45.8416</td>\n",
       "      <td>-16.6952</td>\n",
       "      <td>-28.5364</td>\n",
       "      <td>36.0</td>\n",
       "    </tr>\n",
       "    <tr>\n",
       "      <th>2</th>\n",
       "      <td>0.773667</td>\n",
       "      <td>-1.0720</td>\n",
       "      <td>0.310</td>\n",
       "      <td>-8.6950</td>\n",
       "      <td>-61.7318</td>\n",
       "      <td>-162.9390</td>\n",
       "      <td>23.0</td>\n",
       "    </tr>\n",
       "  </tbody>\n",
       "</table>\n",
       "</div>"
      ],
      "text/plain": [
       "      Acc_x   Acc_y  Acc_z   Gyro_x   Gyro_y    Gyro_z   Set\n",
       "0  0.581500  0.6880 -0.045 -15.9876 -49.4388   14.4512  23.0\n",
       "1  0.010500 -1.5455 -0.040  45.8416 -16.6952  -28.5364  36.0\n",
       "2  0.773667 -1.0720  0.310  -8.6950 -61.7318 -162.9390  23.0"
      ]
     },
     "execution_count": 48,
     "metadata": {},
     "output_type": "execute_result"
    }
   ],
   "source": [
    "def get_centroid(dataset, k):\n",
    "    centroids = []  # List to store the centroids\n",
    "    for _ in range(k):  # Loop k times to select k centroids\n",
    "        centroids.append(dataset.sample(replace=False).iloc[0])  # Randomly select a single instance and add it to centroids\n",
    "    return pd.DataFrame(centroids).reset_index(drop=True)  # Convert centroids to a DataFrame and reset index\n",
    "\n",
    "# Get 3 centroids from the 'df_copy' dataset\n",
    "get_centroid(df_copy, 3)"
   ]
  },
  {
   "cell_type": "markdown",
   "metadata": {},
   "source": [
    "### 3- fonction permettant de trouver le cluster dont une instance donnée est la plus proche."
   ]
  },
  {
   "cell_type": "code",
   "execution_count": 49,
   "metadata": {},
   "outputs": [
    {
     "data": {
      "text/plain": [
       "2"
      ]
     },
     "execution_count": 49,
     "metadata": {},
     "output_type": "execute_result"
    }
   ],
   "source": [
    "def find_closest_cluster(instance, centroids, distance_function):\n",
    "\n",
    "    centroids_df = pd.DataFrame(centroids)  # Convert centroids list to a DataFrame\n",
    "    # Calculate distances between the instance and each centroid using the provided distance function\n",
    "    distances = centroids_df.apply(lambda row: distance_function(row, instance), axis=1)\n",
    "    return distances.idxmin()  # Return the index of the centroid with the minimum distance\n",
    "\n",
    "# Find the closest cluster\n",
    "centroids = get_centroid(df_copy, 3)  # Get 3 centroids\n",
    "find_closest_cluster(df_copy.iloc[0], centroids, cosine_distance)  # Find the closest cluster for the first instance in 'df_copy'\n"
   ]
  },
  {
   "cell_type": "markdown",
   "metadata": {},
   "source": [
    "### 5- Implémentation de l’algorithme k-means et déduction des clusters formés."
   ]
  },
  {
   "cell_type": "code",
   "execution_count": 54,
   "metadata": {},
   "outputs": [],
   "source": [
    "# Désactiver les messages d'avertissement pour les affectations en chaîne\n",
    "pd.options.mode.chained_assignment = None  # par défaut='warn'\n",
    "\n",
    "def kmeans(dataset, k, distance_function, max_iterations=100):\n",
    "    # Choisir k instances aléatoirement comme centroïdes\n",
    "    centroids = get_centroid(dataset, k)\n",
    "\n",
    "    # Initialiser la colonne 'cluster' avec des valeurs aléatoires\n",
    "    dataset['cluster'] = np.random.randint(0, k+5, size=len(dataset))\n",
    "\n",
    "    for iteration in range(max_iterations):\n",
    "        # Affecter chaque instance au groupe le plus proche de son centroïde\n",
    "        clusters = dataset.apply(lambda row: find_closest_cluster(row[:-1], centroids, distance_function), axis=1)\n",
    "        dataset['cluster'] = clusters\n",
    "\n",
    "        # Mettre à jour les centroïdes\n",
    "        # calculant la moyenne de chaque columns qui a le meme cluster \n",
    "        # new centroide position == (donc la moyenne des postions des clusters proche a le centroides \"i\")\n",
    "        new_centroids = dataset.groupby('cluster').mean().reset_index(drop=True)\n",
    "        # print(new_centroids)\n",
    "        # Vérifier la convergence\n",
    "        if centroids.equals(new_centroids):\n",
    "            print('Après {} itérations, la convergence atteinte .'.format(iteration))\n",
    "            break\n",
    "        centroids = new_centroids\n",
    "\n",
    "    return dataset,centroids \n",
    "\n",
    "# Exemple d'utilisation\n",
    "k = 3\n",
    "# result_dataset = kmeans(df_copy,k , cosine_distance)\n",
    "#print(result_dataset)"
   ]
  },
  {
   "cell_type": "code",
   "execution_count": null,
   "metadata": {},
   "outputs": [
    {
     "data": {
      "text/html": [
       "<div>\n",
       "<style scoped>\n",
       "    .dataframe tbody tr th:only-of-type {\n",
       "        vertical-align: middle;\n",
       "    }\n",
       "\n",
       "    .dataframe tbody tr th {\n",
       "        vertical-align: top;\n",
       "    }\n",
       "\n",
       "    .dataframe thead th {\n",
       "        text-align: right;\n",
       "    }\n",
       "</style>\n",
       "<table border=\"1\" class=\"dataframe\">\n",
       "  <thead>\n",
       "    <tr style=\"text-align: right;\">\n",
       "      <th></th>\n",
       "      <th>Acc_x</th>\n",
       "      <th>Acc_y</th>\n",
       "      <th>Acc_z</th>\n",
       "      <th>Gyro_x</th>\n",
       "      <th>Gyro_y</th>\n",
       "      <th>Gyro_z</th>\n",
       "      <th>Set</th>\n",
       "      <th>cluster</th>\n",
       "    </tr>\n",
       "  </thead>\n",
       "  <tbody>\n",
       "    <tr>\n",
       "      <th>0</th>\n",
       "      <td>0.013500</td>\n",
       "      <td>0.977000</td>\n",
       "      <td>-0.071000</td>\n",
       "      <td>-1.8904</td>\n",
       "      <td>2.4392</td>\n",
       "      <td>0.9388</td>\n",
       "      <td>30.0</td>\n",
       "      <td>1</td>\n",
       "    </tr>\n",
       "    <tr>\n",
       "      <th>1</th>\n",
       "      <td>-0.001500</td>\n",
       "      <td>0.970500</td>\n",
       "      <td>-0.079500</td>\n",
       "      <td>-1.6826</td>\n",
       "      <td>-0.8904</td>\n",
       "      <td>2.1708</td>\n",
       "      <td>30.0</td>\n",
       "      <td>1</td>\n",
       "    </tr>\n",
       "    <tr>\n",
       "      <th>2</th>\n",
       "      <td>0.001333</td>\n",
       "      <td>0.971667</td>\n",
       "      <td>-0.064333</td>\n",
       "      <td>2.5608</td>\n",
       "      <td>-0.2560</td>\n",
       "      <td>-1.4146</td>\n",
       "      <td>30.0</td>\n",
       "      <td>1</td>\n",
       "    </tr>\n",
       "    <tr>\n",
       "      <th>3</th>\n",
       "      <td>-0.024000</td>\n",
       "      <td>0.957000</td>\n",
       "      <td>-0.073500</td>\n",
       "      <td>8.0610</td>\n",
       "      <td>-4.5244</td>\n",
       "      <td>-2.0730</td>\n",
       "      <td>30.0</td>\n",
       "      <td>1</td>\n",
       "    </tr>\n",
       "    <tr>\n",
       "      <th>4</th>\n",
       "      <td>-0.028000</td>\n",
       "      <td>0.957667</td>\n",
       "      <td>-0.115000</td>\n",
       "      <td>2.4390</td>\n",
       "      <td>-1.5486</td>\n",
       "      <td>-3.6098</td>\n",
       "      <td>30.0</td>\n",
       "      <td>1</td>\n",
       "    </tr>\n",
       "    <tr>\n",
       "      <th>...</th>\n",
       "      <td>...</td>\n",
       "      <td>...</td>\n",
       "      <td>...</td>\n",
       "      <td>...</td>\n",
       "      <td>...</td>\n",
       "      <td>...</td>\n",
       "      <td>...</td>\n",
       "      <td>...</td>\n",
       "    </tr>\n",
       "    <tr>\n",
       "      <th>9004</th>\n",
       "      <td>-0.048000</td>\n",
       "      <td>-1.041500</td>\n",
       "      <td>-0.076500</td>\n",
       "      <td>1.4146</td>\n",
       "      <td>-5.6218</td>\n",
       "      <td>0.2926</td>\n",
       "      <td>40.0</td>\n",
       "      <td>1</td>\n",
       "    </tr>\n",
       "    <tr>\n",
       "      <th>9005</th>\n",
       "      <td>-0.037000</td>\n",
       "      <td>-1.030333</td>\n",
       "      <td>-0.053333</td>\n",
       "      <td>-2.7684</td>\n",
       "      <td>-0.5854</td>\n",
       "      <td>2.2440</td>\n",
       "      <td>40.0</td>\n",
       "      <td>1</td>\n",
       "    </tr>\n",
       "    <tr>\n",
       "      <th>9006</th>\n",
       "      <td>-0.060000</td>\n",
       "      <td>-1.031000</td>\n",
       "      <td>-0.082000</td>\n",
       "      <td>2.8416</td>\n",
       "      <td>-5.1342</td>\n",
       "      <td>-0.1220</td>\n",
       "      <td>40.0</td>\n",
       "      <td>1</td>\n",
       "    </tr>\n",
       "    <tr>\n",
       "      <th>9007</th>\n",
       "      <td>-0.038667</td>\n",
       "      <td>-1.025667</td>\n",
       "      <td>-0.044667</td>\n",
       "      <td>-0.2318</td>\n",
       "      <td>0.2562</td>\n",
       "      <td>1.1220</td>\n",
       "      <td>40.0</td>\n",
       "      <td>1</td>\n",
       "    </tr>\n",
       "    <tr>\n",
       "      <th>9008</th>\n",
       "      <td>-0.044000</td>\n",
       "      <td>-1.034000</td>\n",
       "      <td>-0.059000</td>\n",
       "      <td>1.0980</td>\n",
       "      <td>-4.0240</td>\n",
       "      <td>0.9760</td>\n",
       "      <td>40.0</td>\n",
       "      <td>1</td>\n",
       "    </tr>\n",
       "  </tbody>\n",
       "</table>\n",
       "<p>9009 rows × 8 columns</p>\n",
       "</div>"
      ],
      "text/plain": [
       "         Acc_x     Acc_y     Acc_z  Gyro_x  Gyro_y  Gyro_z   Set  cluster\n",
       "0     0.013500  0.977000 -0.071000 -1.8904  2.4392  0.9388  30.0        1\n",
       "1    -0.001500  0.970500 -0.079500 -1.6826 -0.8904  2.1708  30.0        1\n",
       "2     0.001333  0.971667 -0.064333  2.5608 -0.2560 -1.4146  30.0        1\n",
       "3    -0.024000  0.957000 -0.073500  8.0610 -4.5244 -2.0730  30.0        1\n",
       "4    -0.028000  0.957667 -0.115000  2.4390 -1.5486 -3.6098  30.0        1\n",
       "...        ...       ...       ...     ...     ...     ...   ...      ...\n",
       "9004 -0.048000 -1.041500 -0.076500  1.4146 -5.6218  0.2926  40.0        1\n",
       "9005 -0.037000 -1.030333 -0.053333 -2.7684 -0.5854  2.2440  40.0        1\n",
       "9006 -0.060000 -1.031000 -0.082000  2.8416 -5.1342 -0.1220  40.0        1\n",
       "9007 -0.038667 -1.025667 -0.044667 -0.2318  0.2562  1.1220  40.0        1\n",
       "9008 -0.044000 -1.034000 -0.059000  1.0980 -4.0240  0.9760  40.0        1\n",
       "\n",
       "[9009 rows x 8 columns]"
      ]
     },
     "execution_count": 28,
     "metadata": {},
     "output_type": "execute_result"
    }
   ],
   "source": [
    "result_dataset"
   ]
  },
  {
   "cell_type": "markdown",
   "metadata": {},
   "source": [
    "# Evaluation des résultats en utilisant le coefficient de silhouette. "
   ]
  },
  {
   "cell_type": "code",
   "execution_count": null,
   "metadata": {},
   "outputs": [
    {
     "name": "stdout",
     "output_type": "stream",
     "text": [
      "Après 10 itérations, la convergence atteinte .\n",
      "Results for k=2:\n",
      "- Intra-cluster inertia (WCSS): 10492833991.19\n",
      "- Silhouette score: 0.90\n",
      "\n",
      "Après 30 itérations, la convergence atteinte .\n",
      "Results for k=5:\n",
      "- Intra-cluster inertia (WCSS): 551396218.83\n",
      "- Silhouette score: 0.15\n",
      "\n",
      "Après 15 itérations, la convergence atteinte .\n",
      "Results for k=6:\n",
      "- Intra-cluster inertia (WCSS): 547074471.75\n",
      "- Silhouette score: 0.17\n",
      "\n"
     ]
    },
    {
     "data": {
      "image/png": "[encoded data removed]",
      "text/plain": [
       "<Figure size 640x480 with 1 Axes>"
      ]
     },
     "metadata": {},
     "output_type": "display_data"
    }
   ],
   "source": [
    "from sklearn.decomposition import PCA\n",
    "from sklearn.decomposition import PCA\n",
    "from sklearn.metrics import silhouette_score\n",
    "import matplotlib.pyplot as plt\n",
    "def evaluate_clusters(data, cluster_assignments):\n",
    "    wcss = np.sum([np.linalg.norm(data[cluster_assignments == c] - np.mean(data[cluster_assignments == c], axis=0))**2\n",
    "                   for c in np.unique(cluster_assignments)])\n",
    "    silhouette_avg = silhouette_score(data, cluster_assignments)\n",
    "    return wcss, silhouette_avg\n",
    "\n",
    "# Visualize clusters with PCA\n",
    "# def visualize_with_pca(data, cluster_assignments, centroids, title):\n",
    "#     # Reduce data to 2D using PCA\n",
    "#     pca = PCA(n_components=2)\n",
    "#     data_2d = pca.fit_transform(data)\n",
    "#     centroids_2d = pca.transform(centroids)\n",
    "\n",
    "#     # Visualize clusters\n",
    "#     plt.scatter(data_2d[:, 0], data_2d[:, 1], c=cluster_assignments, cmap='viridis', s=30, alpha=0.6)\n",
    "#     plt.scatter(centroids_2d[:, 0], centroids_2d[:, 1], color='red', marker='x', s=200, label='Centroids')\n",
    "#     plt.title(title)\n",
    "#     plt.xlabel('PC1 (1st principal component)')\n",
    "#     plt.ylabel('PC2 (2nd principal component)')\n",
    "#     plt.legend()\n",
    "for k in [2, 5, 6]:\n",
    "    data, centroids = kmeans(df_copy,k , cosine_distance)\n",
    "    wcss, silhouette_avg = evaluate_clusters(data, data['cluster'])\n",
    "    \n",
    "    # Visualize with PCA\n",
    "    # visualize_with_pca(data.iloc[:, :-1], data['cluster'], centroids, f\"K-Means with k={k} (PCA Visualization)\")\n",
    "    \n",
    "    # Print evaluation results\n",
    "    print(f\"Results for k={k}:\")\n",
    "    print(f\"- Intra-cluster inertia (WCSS): {wcss:.2f}\")\n",
    "    print(f\"- Silhouette score: {silhouette_avg:.2f}\")\n",
    "    print()"
   ]
  }
 ],
 "metadata": {
  "kernelspec": {
   "display_name": "Python 3",
   "language": "python",
   "name": "python3"
  },
  "language_info": {
   "codemirror_mode": {
    "name": "ipython",
    "version": 3
   },
   "file_extension": ".py",
   "mimetype": "text/x-python",
   "name": "python",
   "nbconvert_exporter": "python",
   "pygments_lexer": "ipython3",
   "version": "3.10.0"
  }
 },
 "nbformat": 4,
 "nbformat_minor": 2
}
